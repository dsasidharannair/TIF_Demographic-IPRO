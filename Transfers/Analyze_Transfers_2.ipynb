{
 "cells": [
  {
   "cell_type": "code",
   "execution_count": 48,
   "metadata": {},
   "outputs": [],
   "source": [
    "import pandas as pd\n",
    "pd.set_option('display.max_rows', None)"
   ]
  },
  {
   "cell_type": "code",
   "execution_count": 49,
   "metadata": {},
   "outputs": [],
   "source": [
    "year = 2026\n",
    "df = pd.read_csv(f\"DataGovCSVs/TIF_Transfers_{year}_modified.csv\")\n",
    "\n",
    "dissimilar = pd.DataFrame(columns=[\"District 1\", \"District 2\", \"Issue\"])"
   ]
  },
  {
   "cell_type": "code",
   "execution_count": 50,
   "metadata": {},
   "outputs": [],
   "source": [
    "for index, row in df.iterrows():\n",
    "    duplicate = df[   (df[\"TIF1\"] == row[\"TIF2\"]) \n",
    "                              & (df[\"TIF2\"] == row[\"TIF1\"])\n",
    "                              & (df[\"Project\"] == row[\"Project\"])\n",
    "                              & (df[\"Direction\"] == (\"From\" if row[\"Direction\"] == \"To\" else \"To\"))\n",
    "                            ]\n",
    "    \n",
    "    if duplicate.empty:\n",
    "        dissimilar = dissimilar.append({\"District 1\" : row[\"TIF1\"], \n",
    "                           \"District 2\" : row[\"TIF2\"], \n",
    "                           \"Issue\" : \"no duplicate found\"}, ignore_index=True)\n",
    "        continue\n",
    "\n",
    "    if duplicate.shape[0] > 1:\n",
    "        dissimilar = dissimilar.append({\"District 1\" : row[\"TIF1\"], \n",
    "                           \"District 2\" : row[\"TIF2\"], \n",
    "                           \"Issue\" : \"more than 1 duplicate found\"}, ignore_index=True)\n",
    "    \n",
    "    duplicate = duplicate.iloc[0]\n",
    "    \n",
    "    if (row[\"Direction\"] == duplicate[\"Direction\"]):\n",
    "        dissimilar = dissimilar.append({\"District 1\" : row[\"TIF1\"], \n",
    "                           \"District 2\" : row[\"TIF2\"], \n",
    "                           \"Issue\" : \"direction does not match\"}, ignore_index=True)\n"
   ]
  },
  {
   "cell_type": "code",
   "execution_count": 51,
   "metadata": {},
   "outputs": [
    {
     "data": {
      "text/html": [
       "<div>\n",
       "<style scoped>\n",
       "    .dataframe tbody tr th:only-of-type {\n",
       "        vertical-align: middle;\n",
       "    }\n",
       "\n",
       "    .dataframe tbody tr th {\n",
       "        vertical-align: top;\n",
       "    }\n",
       "\n",
       "    .dataframe thead th {\n",
       "        text-align: right;\n",
       "    }\n",
       "</style>\n",
       "<table border=\"1\" class=\"dataframe\">\n",
       "  <thead>\n",
       "    <tr style=\"text-align: right;\">\n",
       "      <th></th>\n",
       "      <th>District 1</th>\n",
       "      <th>District 2</th>\n",
       "      <th>Issue</th>\n",
       "    </tr>\n",
       "  </thead>\n",
       "  <tbody>\n",
       "  </tbody>\n",
       "</table>\n",
       "</div>"
      ],
      "text/plain": [
       "Empty DataFrame\n",
       "Columns: [District 1, District 2, Issue]\n",
       "Index: []"
      ]
     },
     "execution_count": 51,
     "metadata": {},
     "output_type": "execute_result"
    }
   ],
   "source": [
    "dissimilar"
   ]
  },
  {
   "cell_type": "code",
   "execution_count": 52,
   "metadata": {},
   "outputs": [],
   "source": [
    "if year == 2024:\n",
    "    df = df[~((df[\"TIF1\"] == \"79th Street Corridor\") & (df[\"TIF2\"] == \"Greater Southwest Industrial Corridor (East)\"))]\n",
    "    df.to_csv(f\"DataGovCSVs/TIF_Transfers_{year}_modified.csv\")"
   ]
  }
 ],
 "metadata": {
  "kernelspec": {
   "display_name": "Python 3",
   "language": "python",
   "name": "python3"
  },
  "language_info": {
   "codemirror_mode": {
    "name": "ipython",
    "version": 3
   },
   "file_extension": ".py",
   "mimetype": "text/x-python",
   "name": "python",
   "nbconvert_exporter": "python",
   "pygments_lexer": "ipython3",
   "version": "3.11.4"
  }
 },
 "nbformat": 4,
 "nbformat_minor": 2
}
